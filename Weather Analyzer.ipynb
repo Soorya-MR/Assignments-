{
 "cells": [
  {
   "cell_type": "code",
   "execution_count": 3,
   "id": "30a6e812-5d2a-4205-a59a-70e3db873dea",
   "metadata": {},
   "outputs": [],
   "source": [
    "def display_weather_data(weather_data):\n",
    "    print(\"\\nWeather Data:\")\n",
    "    for entry in weather_data:\n",
    "        print(f\"Date: {entry['Date']}, Temperature: {entry['Temperature']}°C, Humidity: {entry['Humidity']}%, Condition: {entry['Condition']}\")"
   ]
  },
  {
   "cell_type": "code",
   "execution_count": 5,
   "id": "df2bc528-49f3-4a31-a0a7-9011d6595a3c",
   "metadata": {},
   "outputs": [],
   "source": [
    "def calculate_average_temperature(weather_data):\n",
    "    total_temp = sum(entry['Temperature'] for entry in weather_data)\n",
    "    avg_temp = total_temp / len(weather_data)\n",
    "    return avg_temp"
   ]
  },
  {
   "cell_type": "code",
   "execution_count": 7,
   "id": "190a552b-bdd0-45d5-a84a-a3aa251b1d4c",
   "metadata": {},
   "outputs": [],
   "source": [
    "def calculate_average_humidity(weather_data):\n",
    "    total_humidity = sum(entry['Humidity'] for entry in weather_data)\n",
    "    avg_humidity = total_humidity / len(weather_data)\n",
    "    return avg_humidity"
   ]
  },
  {
   "cell_type": "code",
   "execution_count": 9,
   "id": "1fefdd43-f3cc-4af7-b354-113ad0e50fcb",
   "metadata": {},
   "outputs": [],
   "source": [
    "def determine_weather_condition(temperature, humidity):\n",
    "    if temperature > 30:\n",
    "        return \"Hot\"\n",
    "    elif 20 <= temperature <= 30:\n",
    "        return \"Warm\"\n",
    "    elif 10 <= temperature < 20:\n",
    "        return \"Cool\"\n",
    "    else:\n",
    "        return \"Cold\""
   ]
  },
  {
   "cell_type": "code",
   "execution_count": 13,
   "id": "f3529583-e9eb-4dae-b26f-1838a9a7f0bd",
   "metadata": {},
   "outputs": [],
   "source": [
    "def analyze_weather_data(weather_data):\n",
    "    for entry in weather_data:\n",
    "        condition = determine_weather_condition(entry['Temperature'], entry['Humidity'])\n",
    "        entry['Condition'] = condition\n"
   ]
  },
  {
   "cell_type": "code",
   "execution_count": 41,
   "id": "d10c179f-7b98-4deb-842f-3a14e5759987",
   "metadata": {},
   "outputs": [],
   "source": [
    "def main():\n",
    "    weather_data = [\n",
    "        {\"Date\": \"2024-11-01\", \"Temperature\": 28, \"Humidity\": 70, \"Condition\": \"\"},\n",
    "        {\"Date\": \"2024-11-02\", \"Temperature\": 32, \"Humidity\": 65, \"Condition\": \"\"},\n",
    "        {\"Date\": \"2024-11-03\", \"Temperature\": 22, \"Humidity\": 75, \"Condition\": \"\"},\n",
    "        {\"Date\": \"2024-11-04\", \"Temperature\": 18, \"Humidity\": 80, \"Condition\": \"\"},\n",
    "        {\"Date\": \"2024-11-05\", \"Temperature\": 24, \"Humidity\": 68, \"Condition\": \"\"}\n",
    "    ]\n",
    "    analyze_weather_data(weather_data)\n",
    "    display_weather_data(weather_data)\n",
    "    avg_temp = calculate_average_temperature(weather_data)\n",
    "    avg_humidity = calculate_average_humidity(weather_data)\n",
    "    print(f\"\\nAverage Temperature: {avg_temp:.2f}°C\")\n",
    "    print(f\"Average Humidity: {avg_humidity:.2f}%\")"
   ]
  },
  {
   "cell_type": "code",
   "execution_count": 39,
   "id": "9edee82d-6a60-41ee-beba-f7b706a5689d",
   "metadata": {},
   "outputs": [
    {
     "name": "stdout",
     "output_type": "stream",
     "text": [
      "\n",
      "Weather Data:\n",
      "Date: 2024-11-01, Temperature: 28°C, Humidity: 70%, Condition: Warm\n",
      "Date: 2024-11-02, Temperature: 32°C, Humidity: 65%, Condition: Hot\n",
      "Date: 2024-11-03, Temperature: 22°C, Humidity: 75%, Condition: Warm\n",
      "Date: 2024-11-04, Temperature: 18°C, Humidity: 80%, Condition: Cool\n",
      "Date: 2024-11-05, Temperature: 24°C, Humidity: 68%, Condition: Warm\n"
     ]
    }
   ],
   "source": [
    "if __name__ == \"__main__\":\n",
    "    main()"
   ]
  },
  {
   "cell_type": "code",
   "execution_count": null,
   "id": "748bf0d8-c229-40de-92c5-ff48cfc4dbf9",
   "metadata": {},
   "outputs": [],
   "source": []
  }
 ],
 "metadata": {
  "kernelspec": {
   "display_name": "Python 3 (ipykernel)",
   "language": "python",
   "name": "python3"
  },
  "language_info": {
   "codemirror_mode": {
    "name": "ipython",
    "version": 3
   },
   "file_extension": ".py",
   "mimetype": "text/x-python",
   "name": "python",
   "nbconvert_exporter": "python",
   "pygments_lexer": "ipython3",
   "version": "3.12.4"
  }
 },
 "nbformat": 4,
 "nbformat_minor": 5
}
