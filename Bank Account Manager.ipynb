{
 "cells": [
  {
   "cell_type": "code",
   "execution_count": 17,
   "id": "b6385de7-86ea-4700-a70d-38e8c44654f4",
   "metadata": {},
   "outputs": [],
   "source": [
    "def show_balace(balance):\n",
    "    print(f\"You Balace is rs.{balance:.2f}\")"
   ]
  },
  {
   "cell_type": "code",
   "execution_count": 23,
   "id": "8694d980-8119-4625-b41d-b08cbf58ef88",
   "metadata": {},
   "outputs": [],
   "source": [
    "def deposit():\n",
    "    amount = float(input(\"Enter an amount to be deposited\"))\n",
    "    if amount<0:\n",
    "        print(\"Not Valid\")\n",
    "        return 0\n",
    "    else:\n",
    "        return amount"
   ]
  },
  {
   "cell_type": "code",
   "execution_count": 27,
   "id": "e5bb407c-9421-46c1-b33f-bad04e70d03c",
   "metadata": {},
   "outputs": [],
   "source": [
    "def withdraw(balance):\n",
    "    amount = float(input(\"Enter amount to be withdrawn:\"))\n",
    "    if amount>balace:\n",
    "        print(\"Insufficient funds\")\n",
    "        return 0\n",
    "    elif amount<0:\n",
    "        print(\"Amount must be Grater than 0\")\n",
    "        return 0\n",
    "    else:\n",
    "        return amount"
   ]
  },
  {
   "cell_type": "code",
   "execution_count": 11,
   "id": "cf947a88-8230-4d9d-a6c1-76ddc30d352c",
   "metadata": {},
   "outputs": [],
   "source": [
    "balace = 0\n",
    "is_running = True"
   ]
  },
  {
   "cell_type": "code",
   "execution_count": 52,
   "id": "56bda11e-113b-4870-8e48-841f2af96135",
   "metadata": {},
   "outputs": [
    {
     "name": "stdout",
     "output_type": "stream",
     "text": [
      "Welcome to XYZ Bank\n",
      "1. Show Balance\n",
      "2. Deposit\n",
      "3. Withdraw\n",
      "4. Cancel\n"
     ]
    },
    {
     "name": "stdin",
     "output_type": "stream",
     "text": [
      "Enter your choice(1-4):  1\n"
     ]
    },
    {
     "name": "stdout",
     "output_type": "stream",
     "text": [
      "Your current balance is: 0\n",
      "Welcome to XYZ Bank\n",
      "1. Show Balance\n",
      "2. Deposit\n",
      "3. Withdraw\n",
      "4. Cancel\n"
     ]
    },
    {
     "name": "stdin",
     "output_type": "stream",
     "text": [
      "Enter your choice(1-4):  2\n",
      "Enter the amount to deposit:  1000\n"
     ]
    },
    {
     "name": "stdout",
     "output_type": "stream",
     "text": [
      "Welcome to XYZ Bank\n",
      "1. Show Balance\n",
      "2. Deposit\n",
      "3. Withdraw\n",
      "4. Cancel\n"
     ]
    },
    {
     "name": "stdin",
     "output_type": "stream",
     "text": [
      "Enter your choice(1-4):  1\n"
     ]
    },
    {
     "name": "stdout",
     "output_type": "stream",
     "text": [
      "Your current balance is: 1000.0\n",
      "Welcome to XYZ Bank\n",
      "1. Show Balance\n",
      "2. Deposit\n",
      "3. Withdraw\n",
      "4. Cancel\n"
     ]
    },
    {
     "name": "stdin",
     "output_type": "stream",
     "text": [
      "Enter your choice(1-4):  3\n",
      "Enter the amount to withdraw:  500\n"
     ]
    },
    {
     "name": "stdout",
     "output_type": "stream",
     "text": [
      "Welcome to XYZ Bank\n",
      "1. Show Balance\n",
      "2. Deposit\n",
      "3. Withdraw\n",
      "4. Cancel\n"
     ]
    },
    {
     "name": "stdin",
     "output_type": "stream",
     "text": [
      "Enter your choice(1-4):  1\n"
     ]
    },
    {
     "name": "stdout",
     "output_type": "stream",
     "text": [
      "Your current balance is: 500.0\n",
      "Welcome to XYZ Bank\n",
      "1. Show Balance\n",
      "2. Deposit\n",
      "3. Withdraw\n",
      "4. Cancel\n"
     ]
    },
    {
     "name": "stdin",
     "output_type": "stream",
     "text": [
      "Enter your choice(1-4):  4\n"
     ]
    },
    {
     "name": "stdout",
     "output_type": "stream",
     "text": [
      "Thank you for using XYZ Bank.\n"
     ]
    }
   ],
   "source": [
    "def show_balance(balance):\n",
    "    print(f\"Your current balance is: {balance}\")\n",
    "\n",
    "def deposit():\n",
    "    amount = float(input(\"Enter the amount to deposit: \"))\n",
    "    return amount\n",
    "\n",
    "def withdraw(balance):\n",
    "    amount = float(input(\"Enter the amount to withdraw: \"))\n",
    "    if amount > balance:\n",
    "        print(\"Insufficient balance\")\n",
    "        return 0\n",
    "    else:\n",
    "        return amount\n",
    "\n",
    "def main():\n",
    "    balance = 0\n",
    "    is_running = True\n",
    "    \n",
    "    while is_running:\n",
    "        print(\"Welcome to XYZ Bank\")\n",
    "        print(\"1. Show Balance\")\n",
    "        print(\"2. Deposit\")\n",
    "        print(\"3. Withdraw\")\n",
    "        print(\"4. Cancel\")\n",
    "        choice = input(\"Enter your choice(1-4): \")\n",
    "        \n",
    "        if choice == '1':\n",
    "            show_balance(balance)\n",
    "        elif choice == '2':\n",
    "            balance += deposit()\n",
    "        elif choice == '3':\n",
    "            balance -= withdraw(balance)\n",
    "        elif choice == '4':\n",
    "            is_running = False\n",
    "        else:\n",
    "            print(\"That is not a valid choice.\")\n",
    "    \n",
    "    print(\"Thank you for using XYZ Bank.\")\n",
    "\n",
    "# Corrected the check to '__name__'\n",
    "if __name__ == '__main__':\n",
    "    main()"
   ]
  },
  {
   "cell_type": "code",
   "execution_count": null,
   "id": "774967f3-7c98-494a-844c-069f4846dc44",
   "metadata": {},
   "outputs": [],
   "source": []
  }
 ],
 "metadata": {
  "kernelspec": {
   "display_name": "Python 3 (ipykernel)",
   "language": "python",
   "name": "python3"
  },
  "language_info": {
   "codemirror_mode": {
    "name": "ipython",
    "version": 3
   },
   "file_extension": ".py",
   "mimetype": "text/x-python",
   "name": "python",
   "nbconvert_exporter": "python",
   "pygments_lexer": "ipython3",
   "version": "3.12.4"
  }
 },
 "nbformat": 4,
 "nbformat_minor": 5
}
